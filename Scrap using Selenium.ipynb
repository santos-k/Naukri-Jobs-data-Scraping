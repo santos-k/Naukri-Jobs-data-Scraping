{
 "cells": [
  {
   "cell_type": "code",
   "execution_count": null,
   "id": "239e88de",
   "metadata": {},
   "outputs": [],
   "source": [
    "# !pip install selenium"
   ]
  },
  {
   "cell_type": "code",
   "execution_count": null,
   "id": "5a5c5360",
   "metadata": {},
   "outputs": [],
   "source": [
    "import pandas as pd\n",
    "from selenium import webdriver\n",
    "from selenium.common.exceptions import NoSuchElementException\n",
    "import re\n",
    "\n",
    "import warnings\n",
    "warnings.filterwarnings('ignore')"
   ]
  },
  {
   "cell_type": "code",
   "execution_count": null,
   "id": "04486d36",
   "metadata": {},
   "outputs": [],
   "source": [
    "driver = webdriver.Firefox(executable_path='geckodriver.exe')"
   ]
  },
  {
   "cell_type": "code",
   "execution_count": null,
   "id": "c8f8e401",
   "metadata": {},
   "outputs": [],
   "source": [
    "driver.implicitly_wait(10)"
   ]
  },
  {
   "cell_type": "code",
   "execution_count": null,
   "id": "6cf56e7c",
   "metadata": {},
   "outputs": [],
   "source": [
    "# driver.get('https://www.naukri.com/information-technology-jobs-5000?qi[]=25')"
   ]
  },
  {
   "cell_type": "code",
   "execution_count": null,
   "id": "271a463f",
   "metadata": {},
   "outputs": [],
   "source": [
    "# # enter job role - data scientist\n",
    "# role=driver.find_element_by_xpath('/html/body/div/div[2]/div[3]/div/div/div[1]/div/div/div/input')\n",
    "# role.send_keys('data scientist')\n",
    "\n",
    "# # location - India\n",
    "# location=driver.find_element_by_xpath('/html/body/div/div[2]/div[3]/div/div/div[3]/div/div/div/input')\n",
    "# location.send_keys('india')\n",
    "\n",
    "# # click search\n",
    "# driver.find_element_by_class_name('qsbSubmit').click()"
   ]
  },
  {
   "cell_type": "code",
   "execution_count": null,
   "id": "9ceef764",
   "metadata": {},
   "outputs": [],
   "source": [
    "import pandas as pd # for dataset creation\n",
    "from tqdm import tqdm # tracing for loop\n",
    "\n",
    "df = pd.read_csv('Naukri Job Data/Naukri_DS_jobs.csv') # open an empty csv file to avoid data loss\n",
    "\n",
    "for page in tqdm(range(1,1400)): # total more then 1400 pages\n",
    "    driver.get(f'https://www.naukri.com/data-analyst-data-science-deep-learning-machine-learning-jobs-{page}?k=data%20analyst%2C%20data%20science%2C%20deep%20learning%2C%20machine%20learning')\n",
    "    for i in range(1,21): # 20 jobs details on every page\n",
    "        try:\n",
    "            # extracting job title using xpath\n",
    "            post = driver.find_element_by_xpath('/html/body/div[1]/div[3]/div[2]/section[2]/div[2]/article[{}]/div[1]/div[1]/a'.format(i)).text \n",
    "            \n",
    "            # extracting company name using xpath\n",
    "            firm =  driver.find_element_by_xpath('/html/body/div[1]/div[3]/div[2]/section[2]/div[2]/article[{}]/div[1]/div[1]/div/a[1]'.format(i)).text \n",
    "            \n",
    "            # extracting company ratings on naukri portal using xpath\n",
    "            firm_rating =  driver.find_element_by_xpath('/html/body/div[1]/div[3]/div[2]/section[2]/div[2]/article[{}]/div[1]/div[1]/div/span'.format(i)).text\n",
    "           \n",
    "            # extracting company reviews on naukri portal using xpath\n",
    "            firm_review  =  driver.find_element_by_xpath('/html/body/div[1]/div[3]/div[2]/section[2]/div[2]/article[{}]/div[1]/div[1]/div/a[2]'.format(i)).text\n",
    "            \n",
    "            # extracting required experience using xpath\n",
    "            required_exp  =  driver.find_element_by_xpath('/html/body/div[1]/div[3]/div[2]/section[2]/div[2]/article[{}]/div[1]/div[1]/ul/li[1]/span'.format(i)).text \n",
    "            \n",
    "            # extracting salary offered using xpath\n",
    "            salary_offered  =  driver.find_element_by_xpath('/html/body/div[1]/div[3]/div[2]/section[2]/div[2]/article[{}]/div[1]/div[1]/ul/li[2]/span'.format(i)).text\n",
    "            \n",
    "            # extracting job location using xpath\n",
    "            job_location  =  driver.find_element_by_xpath('/html/body/div[1]/div[3]/div[2]/section[2]/div[2]/article[{}]/div[1]/div[1]/ul/li[3]/span[1]'.format(i)).text\n",
    "            \n",
    "            # extracting job description using xpath\n",
    "            job_desc = driver.find_element_by_xpath('/html/body/div[1]/div[3]/div[2]/section[2]/div[2]/article[{}]/div[2]'.format(i)).text \n",
    "            \n",
    "            # extracting skills required using xpath\n",
    "            skills = driver.find_element_by_xpath('/html/body/div[1]/div[3]/div[2]/section[2]/div[2]/article[{}]/ul'.format(i)).text \n",
    "            \n",
    "            # extracting when job posted using xpath, this data available in two diffrent format for some companies\n",
    "            posted_on = None\n",
    "            posted_on1 = driver.find_element_by_xpath('/html/body/div[1]/div[3]/div[2]/section[2]/div[2]/article[{}]/div[3]/div[1]/span'.format(i)).text\n",
    "            posted_on2 = driver.find_element_by_xpath('/html/body/div[1]/div[3]/div[2]/section[2]/div[2]/article[{}]/div[3]/div[2]/span'.format(i)).text\n",
    "            \n",
    "            for i in [posted_on1,posted_on2]:\n",
    "                if 'DAY' in i:\n",
    "                    posted_on = i\n",
    "                    \n",
    "            # appending all data in data file\n",
    "            df = df.append({'job_post':post,'company':firm,'company_rating':firm_rating,'company_review':firm_review,'exp_required':required_exp,\n",
    "                           'salary_offered':salary_offered,'job_location':job_location,'job_description':job_desc,'required_skills':skills,'Posted_on':posted_on},ignore_index=True)\n",
    "            \n",
    "            # saving as csv file\n",
    "            df.to_csv('Naukri Job Data/Naukri_DS_jobs.csv')\n",
    "        except NoSuchElementException:\n",
    "            pass\n",
    "\n"
   ]
  },
  {
   "cell_type": "code",
   "execution_count": null,
   "id": "af3de160",
   "metadata": {},
   "outputs": [],
   "source": []
  }
 ],
 "metadata": {
  "kernelspec": {
   "display_name": "Python 3 (ipykernel)",
   "language": "python",
   "name": "python3"
  },
  "language_info": {
   "codemirror_mode": {
    "name": "ipython",
    "version": 3
   },
   "file_extension": ".py",
   "mimetype": "text/x-python",
   "name": "python",
   "nbconvert_exporter": "python",
   "pygments_lexer": "ipython3",
   "version": "3.9.7"
  }
 },
 "nbformat": 4,
 "nbformat_minor": 5
}
